{
 "cells": [
  {
   "cell_type": "code",
   "execution_count": 17,
   "id": "95a97102",
   "metadata": {},
   "outputs": [
    {
     "name": "stdout",
     "output_type": "stream",
     "text": [
      "Requirement already satisfied: ISLP in c:\\users\\master\\appdata\\local\\programs\\python\\python313\\lib\\site-packages (0.4.0)\n",
      "Requirement already satisfied: numpy>=1.7.1 in c:\\users\\master\\appdata\\local\\programs\\python\\python313\\lib\\site-packages (from ISLP) (2.2.1)\n",
      "Requirement already satisfied: scipy>=0.9 in c:\\users\\master\\appdata\\local\\programs\\python\\python313\\lib\\site-packages (from ISLP) (1.16.0)\n",
      "Requirement already satisfied: pandas>=0.20 in c:\\users\\master\\appdata\\local\\programs\\python\\python313\\lib\\site-packages (from ISLP) (2.2.3)\n",
      "Requirement already satisfied: lxml in c:\\users\\master\\appdata\\local\\programs\\python\\python313\\lib\\site-packages (from ISLP) (6.0.0)\n",
      "Requirement already satisfied: scikit-learn>=1.2 in c:\\users\\master\\appdata\\local\\programs\\python\\python313\\lib\\site-packages (from ISLP) (1.7.0)\n",
      "Requirement already satisfied: joblib in c:\\users\\master\\appdata\\local\\programs\\python\\python313\\lib\\site-packages (from ISLP) (1.5.1)\n",
      "Requirement already satisfied: statsmodels>=0.13 in c:\\users\\master\\appdata\\local\\programs\\python\\python313\\lib\\site-packages (from ISLP) (0.14.5)\n",
      "Requirement already satisfied: lifelines in c:\\users\\master\\appdata\\local\\programs\\python\\python313\\lib\\site-packages (from ISLP) (0.30.0)\n",
      "Requirement already satisfied: pygam in c:\\users\\master\\appdata\\local\\programs\\python\\python313\\lib\\site-packages (from ISLP) (0.8.0)\n",
      "Requirement already satisfied: torch in c:\\users\\master\\appdata\\local\\programs\\python\\python313\\lib\\site-packages (from ISLP) (2.7.1)\n",
      "Requirement already satisfied: pytorch-lightning in c:\\users\\master\\appdata\\local\\programs\\python\\python313\\lib\\site-packages (from ISLP) (2.5.2)\n",
      "Requirement already satisfied: torchmetrics in c:\\users\\master\\appdata\\local\\programs\\python\\python313\\lib\\site-packages (from ISLP) (1.7.4)\n",
      "Requirement already satisfied: python-dateutil>=2.8.2 in c:\\users\\master\\appdata\\roaming\\python\\python313\\site-packages (from pandas>=0.20->ISLP) (2.9.0.post0)\n",
      "Requirement already satisfied: pytz>=2020.1 in c:\\users\\master\\appdata\\local\\programs\\python\\python313\\lib\\site-packages (from pandas>=0.20->ISLP) (2024.2)\n",
      "Requirement already satisfied: tzdata>=2022.7 in c:\\users\\master\\appdata\\local\\programs\\python\\python313\\lib\\site-packages (from pandas>=0.20->ISLP) (2024.2)\n",
      "Requirement already satisfied: six>=1.5 in c:\\users\\master\\appdata\\roaming\\python\\python313\\site-packages (from python-dateutil>=2.8.2->pandas>=0.20->ISLP) (1.17.0)\n",
      "Requirement already satisfied: threadpoolctl>=3.1.0 in c:\\users\\master\\appdata\\local\\programs\\python\\python313\\lib\\site-packages (from scikit-learn>=1.2->ISLP) (3.6.0)\n",
      "Requirement already satisfied: patsy>=0.5.6 in c:\\users\\master\\appdata\\local\\programs\\python\\python313\\lib\\site-packages (from statsmodels>=0.13->ISLP) (1.0.1)\n",
      "Requirement already satisfied: packaging>=21.3 in c:\\users\\master\\appdata\\roaming\\python\\python313\\site-packages (from statsmodels>=0.13->ISLP) (24.2)\n",
      "Requirement already satisfied: matplotlib>=3.0 in c:\\users\\master\\appdata\\local\\programs\\python\\python313\\lib\\site-packages (from lifelines->ISLP) (3.10.1)\n",
      "Requirement already satisfied: autograd>=1.5 in c:\\users\\master\\appdata\\local\\programs\\python\\python313\\lib\\site-packages (from lifelines->ISLP) (1.8.0)\n",
      "Requirement already satisfied: autograd-gamma>=0.3 in c:\\users\\master\\appdata\\local\\programs\\python\\python313\\lib\\site-packages (from lifelines->ISLP) (0.5.0)\n",
      "Requirement already satisfied: formulaic>=0.2.2 in c:\\users\\master\\appdata\\local\\programs\\python\\python313\\lib\\site-packages (from lifelines->ISLP) (1.2.0)\n",
      "Requirement already satisfied: interface-meta>=1.2.0 in c:\\users\\master\\appdata\\local\\programs\\python\\python313\\lib\\site-packages (from formulaic>=0.2.2->lifelines->ISLP) (1.3.0)\n",
      "Requirement already satisfied: narwhals>=1.17 in c:\\users\\master\\appdata\\local\\programs\\python\\python313\\lib\\site-packages (from formulaic>=0.2.2->lifelines->ISLP) (1.47.0)\n",
      "Requirement already satisfied: typing-extensions>=4.2.0 in c:\\users\\master\\appdata\\local\\programs\\python\\python313\\lib\\site-packages (from formulaic>=0.2.2->lifelines->ISLP) (4.14.1)\n",
      "Requirement already satisfied: wrapt>=1.17.0rc1 in c:\\users\\master\\appdata\\local\\programs\\python\\python313\\lib\\site-packages (from formulaic>=0.2.2->lifelines->ISLP) (1.17.2)\n",
      "Requirement already satisfied: contourpy>=1.0.1 in c:\\users\\master\\appdata\\local\\programs\\python\\python313\\lib\\site-packages (from matplotlib>=3.0->lifelines->ISLP) (1.3.1)\n",
      "Requirement already satisfied: cycler>=0.10 in c:\\users\\master\\appdata\\local\\programs\\python\\python313\\lib\\site-packages (from matplotlib>=3.0->lifelines->ISLP) (0.12.1)\n",
      "Requirement already satisfied: fonttools>=4.22.0 in c:\\users\\master\\appdata\\local\\programs\\python\\python313\\lib\\site-packages (from matplotlib>=3.0->lifelines->ISLP) (4.56.0)\n",
      "Requirement already satisfied: kiwisolver>=1.3.1 in c:\\users\\master\\appdata\\local\\programs\\python\\python313\\lib\\site-packages (from matplotlib>=3.0->lifelines->ISLP) (1.4.8)\n",
      "Requirement already satisfied: pillow>=8 in c:\\users\\master\\appdata\\local\\programs\\python\\python313\\lib\\site-packages (from matplotlib>=3.0->lifelines->ISLP) (11.1.0)\n",
      "Requirement already satisfied: pyparsing>=2.3.1 in c:\\users\\master\\appdata\\local\\programs\\python\\python313\\lib\\site-packages (from matplotlib>=3.0->lifelines->ISLP) (3.2.1)\n",
      "Requirement already satisfied: future in c:\\users\\master\\appdata\\local\\programs\\python\\python313\\lib\\site-packages (from pygam->ISLP) (1.0.0)\n",
      "Requirement already satisfied: progressbar2 in c:\\users\\master\\appdata\\local\\programs\\python\\python313\\lib\\site-packages (from pygam->ISLP) (4.5.0)\n",
      "Requirement already satisfied: python-utils>=3.8.1 in c:\\users\\master\\appdata\\local\\programs\\python\\python313\\lib\\site-packages (from progressbar2->pygam->ISLP) (3.9.1)\n",
      "Requirement already satisfied: tqdm>=4.57.0 in c:\\users\\master\\appdata\\local\\programs\\python\\python313\\lib\\site-packages (from pytorch-lightning->ISLP) (4.67.1)\n",
      "Requirement already satisfied: PyYAML>=5.4 in c:\\users\\master\\appdata\\local\\programs\\python\\python313\\lib\\site-packages (from pytorch-lightning->ISLP) (6.0.2)\n",
      "Requirement already satisfied: fsspec>=2022.5.0 in c:\\users\\master\\appdata\\local\\programs\\python\\python313\\lib\\site-packages (from fsspec[http]>=2022.5.0->pytorch-lightning->ISLP) (2025.7.0)\n",
      "Requirement already satisfied: lightning-utilities>=0.10.0 in c:\\users\\master\\appdata\\local\\programs\\python\\python313\\lib\\site-packages (from pytorch-lightning->ISLP) (0.14.3)\n",
      "Requirement already satisfied: aiohttp!=4.0.0a0,!=4.0.0a1 in c:\\users\\master\\appdata\\local\\programs\\python\\python313\\lib\\site-packages (from fsspec[http]>=2022.5.0->pytorch-lightning->ISLP) (3.12.14)\n",
      "Requirement already satisfied: aiohappyeyeballs>=2.5.0 in c:\\users\\master\\appdata\\local\\programs\\python\\python313\\lib\\site-packages (from aiohttp!=4.0.0a0,!=4.0.0a1->fsspec[http]>=2022.5.0->pytorch-lightning->ISLP) (2.6.1)\n",
      "Requirement already satisfied: aiosignal>=1.4.0 in c:\\users\\master\\appdata\\local\\programs\\python\\python313\\lib\\site-packages (from aiohttp!=4.0.0a0,!=4.0.0a1->fsspec[http]>=2022.5.0->pytorch-lightning->ISLP) (1.4.0)\n",
      "Requirement already satisfied: attrs>=17.3.0 in c:\\users\\master\\appdata\\local\\programs\\python\\python313\\lib\\site-packages (from aiohttp!=4.0.0a0,!=4.0.0a1->fsspec[http]>=2022.5.0->pytorch-lightning->ISLP) (25.3.0)\n",
      "Requirement already satisfied: frozenlist>=1.1.1 in c:\\users\\master\\appdata\\local\\programs\\python\\python313\\lib\\site-packages (from aiohttp!=4.0.0a0,!=4.0.0a1->fsspec[http]>=2022.5.0->pytorch-lightning->ISLP) (1.7.0)\n",
      "Requirement already satisfied: multidict<7.0,>=4.5 in c:\\users\\master\\appdata\\local\\programs\\python\\python313\\lib\\site-packages (from aiohttp!=4.0.0a0,!=4.0.0a1->fsspec[http]>=2022.5.0->pytorch-lightning->ISLP) (6.6.3)\n",
      "Requirement already satisfied: propcache>=0.2.0 in c:\\users\\master\\appdata\\local\\programs\\python\\python313\\lib\\site-packages (from aiohttp!=4.0.0a0,!=4.0.0a1->fsspec[http]>=2022.5.0->pytorch-lightning->ISLP) (0.3.2)\n",
      "Requirement already satisfied: yarl<2.0,>=1.17.0 in c:\\users\\master\\appdata\\local\\programs\\python\\python313\\lib\\site-packages (from aiohttp!=4.0.0a0,!=4.0.0a1->fsspec[http]>=2022.5.0->pytorch-lightning->ISLP) (1.20.1)\n",
      "Requirement already satisfied: idna>=2.0 in c:\\users\\master\\appdata\\local\\programs\\python\\python313\\lib\\site-packages (from yarl<2.0,>=1.17.0->aiohttp!=4.0.0a0,!=4.0.0a1->fsspec[http]>=2022.5.0->pytorch-lightning->ISLP) (3.10)\n",
      "Requirement already satisfied: setuptools in c:\\users\\master\\appdata\\local\\programs\\python\\python313\\lib\\site-packages (from lightning-utilities>=0.10.0->pytorch-lightning->ISLP) (80.9.0)\n",
      "Requirement already satisfied: filelock in c:\\users\\master\\appdata\\local\\programs\\python\\python313\\lib\\site-packages (from torch->ISLP) (3.18.0)\n",
      "Requirement already satisfied: sympy>=1.13.3 in c:\\users\\master\\appdata\\local\\programs\\python\\python313\\lib\\site-packages (from torch->ISLP) (1.14.0)\n",
      "Requirement already satisfied: networkx in c:\\users\\master\\appdata\\local\\programs\\python\\python313\\lib\\site-packages (from torch->ISLP) (3.5)\n",
      "Requirement already satisfied: jinja2 in c:\\users\\master\\appdata\\local\\programs\\python\\python313\\lib\\site-packages (from torch->ISLP) (3.1.6)\n",
      "Requirement already satisfied: mpmath<1.4,>=1.1.0 in c:\\users\\master\\appdata\\local\\programs\\python\\python313\\lib\\site-packages (from sympy>=1.13.3->torch->ISLP) (1.3.0)\n",
      "Requirement already satisfied: colorama in c:\\users\\master\\appdata\\roaming\\python\\python313\\site-packages (from tqdm>=4.57.0->pytorch-lightning->ISLP) (0.4.6)\n",
      "Requirement already satisfied: MarkupSafe>=2.0 in c:\\users\\master\\appdata\\local\\programs\\python\\python313\\lib\\site-packages (from jinja2->torch->ISLP) (3.0.2)\n"
     ]
    }
   ],
   "source": [
    "!pip install ISLP"
   ]
  },
  {
   "cell_type": "markdown",
   "id": "21a3ade6",
   "metadata": {},
   "source": [
    "1. Standard Formula with sm.GLM()"
   ]
  },
  {
   "cell_type": "code",
   "execution_count": null,
   "id": "e9368489",
   "metadata": {},
   "outputs": [],
   "source": [
    "import numpy as np\n",
    "import pandas as pd\n",
    "import statsmodels.api as sm\n",
    "from ISLP import load_data\n",
    "from ISLP.models import ModelSpec, summarize"
   ]
  },
  {
   "cell_type": "markdown",
   "id": "a4cc9ed4",
   "metadata": {},
   "source": [
    "# Set random seed"
   ]
  },
  {
   "cell_type": "code",
   "execution_count": null,
   "id": "7655155c",
   "metadata": {},
   "outputs": [],
   "source": [
    "\n",
    "np.random.seed(42)"
   ]
  },
  {
   "cell_type": "markdown",
   "id": "975b4988",
   "metadata": {},
   "source": [
    "# Load Default data"
   ]
  },
  {
   "cell_type": "code",
   "execution_count": null,
   "id": "a658fc36",
   "metadata": {},
   "outputs": [],
   "source": [
    "\n",
    "Default = load_data('Default')"
   ]
  },
  {
   "cell_type": "markdown",
   "id": "c8d08b5a",
   "metadata": {},
   "source": [
    "# Prepare X and y"
   ]
  },
  {
   "cell_type": "code",
   "execution_count": 27,
   "id": "b5858f1e",
   "metadata": {},
   "outputs": [],
   "source": [
    "\n",
    "y = Default['default'] == 'Yes'\n",
    "X = ModelSpec(['income', 'balance']).fit_transform(Default)"
   ]
  },
  {
   "cell_type": "markdown",
   "id": "68ed5ef5",
   "metadata": {},
   "source": [
    "# Fit logistic regression"
   ]
  },
  {
   "cell_type": "code",
   "execution_count": 28,
   "id": "b4ae391e",
   "metadata": {},
   "outputs": [],
   "source": [
    "\n",
    "glm = sm.GLM(y, X, family=sm.families.Binomial())\n",
    "result = glm.fit()"
   ]
  },
  {
   "cell_type": "markdown",
   "id": "8f4784c6",
   "metadata": {},
   "source": [
    "# Display summary and standard errors"
   ]
  },
  {
   "cell_type": "code",
   "execution_count": 29,
   "id": "364b9922",
   "metadata": {},
   "outputs": [
    {
     "name": "stdout",
     "output_type": "stream",
     "text": [
      "                coef   std err       z  P>|z|\n",
      "intercept -11.540500  0.435000 -26.544    0.0\n",
      "income      0.000021  0.000005   4.174    0.0\n",
      "balance     0.005600  0.000000  24.835    0.0\n",
      "\n",
      "Standard errors using standard formula:\n",
      "intercept    0.434772\n",
      "income       0.000005\n",
      "balance      0.000227\n",
      "dtype: float64\n"
     ]
    }
   ],
   "source": [
    "print(summarize(result))\n",
    "print(\"\\nStandard errors using standard formula:\")\n",
    "print(result.bse)"
   ]
  },
  {
   "cell_type": "markdown",
   "id": "5f8207e6",
   "metadata": {},
   "source": [
    "2. Bootstrap Estimates for Standard Error"
   ]
  },
  {
   "cell_type": "code",
   "execution_count": null,
   "id": "5446a0a7",
   "metadata": {},
   "outputs": [],
   "source": [
    "def bootfn(data, idx):\n",
    "    D = data.iloc[idx]\n",
    "    y_boot = D['default'] == 'Yes'\n",
    "    X_boot = ModelSpec(['income', 'balance']).fit_transform(D)\n",
    "    glm_boot = sm.GLM(y_boot, X_boot, family=sm.families.Binomial())\n",
    "    res_boot = glm_boot.fit()\n",
    "    return res_boot.params[1:]  # [income, balance]"
   ]
  },
  {
   "cell_type": "code",
   "execution_count": 31,
   "id": "f9cadd21",
   "metadata": {},
   "outputs": [],
   "source": [
    "B = 1000\n",
    "n = len(Default)\n",
    "boot_coefs = np.zeros((B, 2))"
   ]
  },
  {
   "cell_type": "code",
   "execution_count": null,
   "id": "6000f351",
   "metadata": {},
   "outputs": [],
   "source": [
    "np.random.seed(42)\n",
    "for i in range(B):\n",
    "    idx = np.random.choice(n, n, replace=True)\n",
    "    boot_coefs[i, :] = bootfn(Default, idx)"
   ]
  },
  {
   "cell_type": "code",
   "execution_count": 32,
   "id": "f9b67c2e",
   "metadata": {},
   "outputs": [
    {
     "name": "stdout",
     "output_type": "stream",
     "text": [
      "\n",
      "Bootstrap standard errors (income, balance): [0. 0.]\n"
     ]
    }
   ],
   "source": [
    "bootstrap_se = boot_coefs.std(axis=0)\n",
    "print(\"\\nBootstrap standard errors (income, balance):\", bootstrap_se)"
   ]
  },
  {
   "cell_type": "markdown",
   "id": "df18765e",
   "metadata": {},
   "source": [
    "The first method directly retrieves standard errors calculated analytically by statsmodels.\n",
    "\n",
    "The second method resamples the dataset 1000 times (with replacement), fits the model each time, and calculates the empirical (sample) standard deviation of those estimates as the bootstrap standard error.\n"
   ]
  },
  {
   "cell_type": "markdown",
   "id": "0772e664",
   "metadata": {},
   "source": [
    "*************************************************************************************************************"
   ]
  },
  {
   "cell_type": "markdown",
   "id": "554265b5",
   "metadata": {},
   "source": [
    "(a) Using the summarize() and sm.GLM() functions, determine the estimated standard errors for the coefficients associated with income and balance in a multiple logistic regression model that uses both predictors. \n"
   ]
  },
  {
   "cell_type": "code",
   "execution_count": 33,
   "id": "028a1217",
   "metadata": {},
   "outputs": [],
   "source": [
    "glm = sm.GLM(y, X, family=sm.families.Binomial())\n",
    "result = glm.fit()\n"
   ]
  },
  {
   "cell_type": "code",
   "execution_count": null,
   "id": "6ea1c63d",
   "metadata": {},
   "outputs": [
    {
     "name": "stdout",
     "output_type": "stream",
     "text": [
      "                coef   std err       z  P>|z|\n",
      "intercept -11.540500  0.435000 -26.544    0.0\n",
      "income      0.000021  0.000005   4.174    0.0\n",
      "balance     0.005600  0.000000  24.835    0.0\n",
      "\n",
      "Standard errors for income and balance:\n",
      "income     0.000005\n",
      "balance    0.000227\n",
      "dtype: float64\n"
     ]
    }
   ],
   "source": [
    "# Display regression summary including standard errors\n",
    "print(summarize(result))\n",
    "print(\"\\nStandard errors for income and balance:\")\n",
    "print(result.bse[1:])  "
   ]
  },
  {
   "cell_type": "markdown",
   "id": "f22c3e2c",
   "metadata": {},
   "source": [
    "The summarize() function provides a neat summary of regression output, including the estimated standard errors.\n",
    "\n",
    "result.bse gives the standard errors for all coefficients; use result.bse[1:] for 'income' and 'balance'.\n"
   ]
  },
  {
   "cell_type": "markdown",
   "id": "6e4960c5",
   "metadata": {},
   "source": [
    "****"
   ]
  },
  {
   "cell_type": "markdown",
   "id": "3478a9f6",
   "metadata": {},
   "source": [
    "(b) Write a function, boot_fn(), that takes as input the Default data set as well as an index of the observations, and that outputs the coefcient estimates for income and balance in the multiple logistic regression model. "
   ]
  },
  {
   "cell_type": "code",
   "execution_count": 37,
   "id": "5439bea4",
   "metadata": {},
   "outputs": [],
   "source": [
    "import statsmodels.api as sm\n",
    "from ISLP.models import ModelSpec"
   ]
  },
  {
   "cell_type": "code",
   "execution_count": 48,
   "id": "f6cb8199",
   "metadata": {},
   "outputs": [],
   "source": [
    "def boot_fn(data, idx):\n",
    "    # Subset the data based on given indices\n",
    "    sample = data.iloc[idx]\n",
    "    y = sample['default'] == 'Yes'\n",
    "    X = ModelSpec(['income', 'balance']).fit_transform(sample)\n",
    "    model = sm.GLM(y, X, family=sm.families.Binomial())\n",
    "    result = model.fit()\n",
    "    return result.params[['income', 'balance']]"
   ]
  },
  {
   "cell_type": "markdown",
   "id": "d5029ae8",
   "metadata": {},
   "source": [
    "This function subsets the Default data using the given index, fits a logistic regression model, and returns the coefficients for income and balance predictors.\n"
   ]
  },
  {
   "cell_type": "markdown",
   "id": "384b443a",
   "metadata": {},
   "source": [
    "***"
   ]
  },
  {
   "cell_type": "markdown",
   "id": "00401a90",
   "metadata": {},
   "source": [
    "(c) Following the bootstrap example in the lab, use your boot_fn() function to estimate the standard errors of the logistic regression coefcients for income and balance. "
   ]
  },
  {
   "cell_type": "code",
   "execution_count": null,
   "id": "0b6bdbce",
   "metadata": {},
   "outputs": [],
   "source": [
    "import numpy as np\n",
    "from ISLP import load_data"
   ]
  },
  {
   "cell_type": "code",
   "execution_count": 50,
   "id": "74e4bbd7",
   "metadata": {},
   "outputs": [],
   "source": [
    "# Load Default data\n",
    "Default = load_data('Default')"
   ]
  },
  {
   "cell_type": "code",
   "execution_count": 51,
   "id": "b1ac8323",
   "metadata": {},
   "outputs": [],
   "source": [
    "# Set seed for reproducibility\n",
    "np.random.seed(42)\n"
   ]
  },
  {
   "cell_type": "code",
   "execution_count": 52,
   "id": "2f17e1a2",
   "metadata": {},
   "outputs": [],
   "source": [
    "# Number of bootstrap samples\n",
    "B = 1000\n",
    "\n",
    "# Create an array to store the bootstrap estimates (for income and balance)\n",
    "boot_coefs = np.zeros((B, 2))\n"
   ]
  },
  {
   "cell_type": "code",
   "execution_count": null,
   "id": "5944b50d",
   "metadata": {},
   "outputs": [],
   "source": [
    "# Bootstrap process\n",
    "for i in range(B):\n",
    "    # Generate bootstrap sample indices\n",
    "    indices = np.random.choice(len(Default), len(Default), replace=True)\n",
    "    # Estimate coefficients with bootstrap sample\n",
    "    coefs = boot_fn(Default, indices)\n",
    "    boot_coefs[i, :] = coefs.values"
   ]
  },
  {
   "cell_type": "code",
   "execution_count": 53,
   "id": "6b1757f4",
   "metadata": {},
   "outputs": [
    {
     "name": "stdout",
     "output_type": "stream",
     "text": [
      "Bootstrap standard errors for income and balance: [0. 0.]\n"
     ]
    }
   ],
   "source": [
    "# Calculate bootstrap standard errors as the standard deviation across bootstrap samples\n",
    "bootstrap_se = boot_coefs.std(axis=0)\n",
    "print(\"Bootstrap standard errors for income and balance:\", bootstrap_se)"
   ]
  },
  {
   "cell_type": "markdown",
   "id": "af1d349a",
   "metadata": {},
   "source": [
    "(d) Comment on the estimated standard errors obtained using the sm.GLM() function and using the bootstrap."
   ]
  },
  {
   "cell_type": "markdown",
   "id": "36628e16",
   "metadata": {},
   "source": [
    "The standard errors from sm.GLM() and the bootstrap both estimate how much the coefficient values might change if we took new samples.\n",
    "\n",
    "sm.GLM() standard errors use math formulas based on the model assumptions. They are quick to calculate.\n",
    "\n",
    "Bootstrap standard errors come from actually resampling the data many times and refitting the model. They don’t assume the model is perfect and can be more reliable if the data is unusual.\n",
    "\n",
    "If both are close, it means the model assumptions are probably fine. If they differ a lot, it might mean the model needs a closer look. The bootstrap is more flexible but takes more computing power."
   ]
  },
  {
   "cell_type": "markdown",
   "id": "dc4606b6",
   "metadata": {},
   "source": [
    "***"
   ]
  },
  {
   "cell_type": "markdown",
   "id": "59fdc199",
   "metadata": {},
   "source": [
    "2.\tWe will now estimate the test error of this logistic regression model using the validation set approach. Do not forget to set a random seed before beginning your analysis"
   ]
  },
  {
   "cell_type": "markdown",
   "id": "03735a90",
   "metadata": {},
   "source": [
    "(a) Fit a logistic regression model that uses income and balance to predict default."
   ]
  },
  {
   "cell_type": "code",
   "execution_count": 54,
   "id": "f5f322a2",
   "metadata": {},
   "outputs": [],
   "source": [
    "import numpy as np\n",
    "from ISLP import load_data\n",
    "from sklearn.linear_model import LogisticRegression\n",
    "from sklearn.model_selection import train_test_split"
   ]
  },
  {
   "cell_type": "code",
   "execution_count": 55,
   "id": "47f3120b",
   "metadata": {},
   "outputs": [],
   "source": [
    "# Load Default dataset\n",
    "Default = load_data('Default')"
   ]
  },
  {
   "cell_type": "code",
   "execution_count": 56,
   "id": "499e02b2",
   "metadata": {},
   "outputs": [],
   "source": [
    "# Prepare response variable and predictors\n",
    "y = Default['default'] == 'Yes'\n",
    "X = ModelSpec(['income', 'balance']).fit_transform(Default)"
   ]
  },
  {
   "cell_type": "code",
   "execution_count": 62,
   "id": "be34178a",
   "metadata": {},
   "outputs": [],
   "source": [
    "# Fit logistic regression model\n",
    "glm = sm.GLM(y, X, family=sm.families.Binomial())\n",
    "result = glm.fit()"
   ]
  },
  {
   "cell_type": "code",
   "execution_count": 63,
   "id": "c190073e",
   "metadata": {},
   "outputs": [
    {
     "name": "stdout",
     "output_type": "stream",
     "text": [
      "                coef   std err       z  P>|z|\n",
      "intercept -11.540500  0.435000 -26.544    0.0\n",
      "income      0.000021  0.000005   4.174    0.0\n",
      "balance     0.005600  0.000000  24.835    0.0\n"
     ]
    }
   ],
   "source": [
    "# Display model summary\n",
    "print(summarize(result))"
   ]
  },
  {
   "cell_type": "markdown",
   "id": "d13c8f59",
   "metadata": {},
   "source": [
    "(b) Using the validation set approach, estimate the test error of this model. In order to do this, you must perform the following steps: \n"
   ]
  },
  {
   "cell_type": "markdown",
   "id": "afe7b23a",
   "metadata": {},
   "source": [
    "(a) Fit a logistic regression model that uses income and balance to predict default. \n",
    "(b) Using the validation set approach, estimate the test error of this model. In order to do this, you must perform the following steps: \n",
    "i. Split the sample set into a training set and a validation set. \n",
    "ii. Fit a multiple logistic regression model using only the training observations. \n",
    "iii. Obtain a prediction of default status for each individual in the validation set by computing the posterior probability of default for that individual, and classifying the individual to the default category if the posterior probability is greater than 0.5. \n",
    "\n",
    "iv. Compute the validation set error, which is the fraction of the observations in the validation set that are misclassified. \n",
    "(c) Repeat the process in (b) three times, using three different splits of the observations into a training set and a validation set. Comment on the results obtained.\n"
   ]
  },
  {
   "cell_type": "code",
   "execution_count": 71,
   "id": "679a03d3",
   "metadata": {},
   "outputs": [],
   "source": [
    "import numpy as np\n",
    "from ISLP import load_data\n",
    "from sklearn.linear_model import LogisticRegression\n",
    "from sklearn.model_selection import train_test_split"
   ]
  },
  {
   "cell_type": "code",
   "execution_count": 72,
   "id": "0b727ebc",
   "metadata": {},
   "outputs": [],
   "source": [
    "\n",
    "# Load Default data\n",
    "Default = load_data('Default')"
   ]
  },
  {
   "cell_type": "code",
   "execution_count": 73,
   "id": "3d6c2787",
   "metadata": {},
   "outputs": [],
   "source": [
    "# Prepare predictors and response\n",
    "X = Default[['income', 'balance']]\n",
    "y = (Default['default'] == 'Yes').astype(int)\n",
    "\n",
    "validation_errors = []"
   ]
  },
  {
   "cell_type": "code",
   "execution_count": 74,
   "id": "599210b8",
   "metadata": {},
   "outputs": [],
   "source": [
    "# Repeat splitting, training, predicting, and evaluating 3 times\n",
    "for seed in [1, 2, 3]:\n",
    "    np.random.seed(seed)  # Set random seed"
   ]
  },
  {
   "cell_type": "code",
   "execution_count": null,
   "id": "a4efa36f",
   "metadata": {},
   "outputs": [],
   "source": [
    "  \n",
    "    # i. Split into training and validation sets\n",
    "X_train, X_val, y_train, y_val = train_test_split(X, y, test_size=0.5, random_state=seed)"
   ]
  },
  {
   "cell_type": "code",
   "execution_count": 79,
   "id": "998855b0",
   "metadata": {},
   "outputs": [
    {
     "data": {
      "text/html": [
       "<style>#sk-container-id-1 {\n",
       "  /* Definition of color scheme common for light and dark mode */\n",
       "  --sklearn-color-text: #000;\n",
       "  --sklearn-color-text-muted: #666;\n",
       "  --sklearn-color-line: gray;\n",
       "  /* Definition of color scheme for unfitted estimators */\n",
       "  --sklearn-color-unfitted-level-0: #fff5e6;\n",
       "  --sklearn-color-unfitted-level-1: #f6e4d2;\n",
       "  --sklearn-color-unfitted-level-2: #ffe0b3;\n",
       "  --sklearn-color-unfitted-level-3: chocolate;\n",
       "  /* Definition of color scheme for fitted estimators */\n",
       "  --sklearn-color-fitted-level-0: #f0f8ff;\n",
       "  --sklearn-color-fitted-level-1: #d4ebff;\n",
       "  --sklearn-color-fitted-level-2: #b3dbfd;\n",
       "  --sklearn-color-fitted-level-3: cornflowerblue;\n",
       "\n",
       "  /* Specific color for light theme */\n",
       "  --sklearn-color-text-on-default-background: var(--sg-text-color, var(--theme-code-foreground, var(--jp-content-font-color1, black)));\n",
       "  --sklearn-color-background: var(--sg-background-color, var(--theme-background, var(--jp-layout-color0, white)));\n",
       "  --sklearn-color-border-box: var(--sg-text-color, var(--theme-code-foreground, var(--jp-content-font-color1, black)));\n",
       "  --sklearn-color-icon: #696969;\n",
       "\n",
       "  @media (prefers-color-scheme: dark) {\n",
       "    /* Redefinition of color scheme for dark theme */\n",
       "    --sklearn-color-text-on-default-background: var(--sg-text-color, var(--theme-code-foreground, var(--jp-content-font-color1, white)));\n",
       "    --sklearn-color-background: var(--sg-background-color, var(--theme-background, var(--jp-layout-color0, #111)));\n",
       "    --sklearn-color-border-box: var(--sg-text-color, var(--theme-code-foreground, var(--jp-content-font-color1, white)));\n",
       "    --sklearn-color-icon: #878787;\n",
       "  }\n",
       "}\n",
       "\n",
       "#sk-container-id-1 {\n",
       "  color: var(--sklearn-color-text);\n",
       "}\n",
       "\n",
       "#sk-container-id-1 pre {\n",
       "  padding: 0;\n",
       "}\n",
       "\n",
       "#sk-container-id-1 input.sk-hidden--visually {\n",
       "  border: 0;\n",
       "  clip: rect(1px 1px 1px 1px);\n",
       "  clip: rect(1px, 1px, 1px, 1px);\n",
       "  height: 1px;\n",
       "  margin: -1px;\n",
       "  overflow: hidden;\n",
       "  padding: 0;\n",
       "  position: absolute;\n",
       "  width: 1px;\n",
       "}\n",
       "\n",
       "#sk-container-id-1 div.sk-dashed-wrapped {\n",
       "  border: 1px dashed var(--sklearn-color-line);\n",
       "  margin: 0 0.4em 0.5em 0.4em;\n",
       "  box-sizing: border-box;\n",
       "  padding-bottom: 0.4em;\n",
       "  background-color: var(--sklearn-color-background);\n",
       "}\n",
       "\n",
       "#sk-container-id-1 div.sk-container {\n",
       "  /* jupyter's `normalize.less` sets `[hidden] { display: none; }`\n",
       "     but bootstrap.min.css set `[hidden] { display: none !important; }`\n",
       "     so we also need the `!important` here to be able to override the\n",
       "     default hidden behavior on the sphinx rendered scikit-learn.org.\n",
       "     See: https://github.com/scikit-learn/scikit-learn/issues/21755 */\n",
       "  display: inline-block !important;\n",
       "  position: relative;\n",
       "}\n",
       "\n",
       "#sk-container-id-1 div.sk-text-repr-fallback {\n",
       "  display: none;\n",
       "}\n",
       "\n",
       "div.sk-parallel-item,\n",
       "div.sk-serial,\n",
       "div.sk-item {\n",
       "  /* draw centered vertical line to link estimators */\n",
       "  background-image: linear-gradient(var(--sklearn-color-text-on-default-background), var(--sklearn-color-text-on-default-background));\n",
       "  background-size: 2px 100%;\n",
       "  background-repeat: no-repeat;\n",
       "  background-position: center center;\n",
       "}\n",
       "\n",
       "/* Parallel-specific style estimator block */\n",
       "\n",
       "#sk-container-id-1 div.sk-parallel-item::after {\n",
       "  content: \"\";\n",
       "  width: 100%;\n",
       "  border-bottom: 2px solid var(--sklearn-color-text-on-default-background);\n",
       "  flex-grow: 1;\n",
       "}\n",
       "\n",
       "#sk-container-id-1 div.sk-parallel {\n",
       "  display: flex;\n",
       "  align-items: stretch;\n",
       "  justify-content: center;\n",
       "  background-color: var(--sklearn-color-background);\n",
       "  position: relative;\n",
       "}\n",
       "\n",
       "#sk-container-id-1 div.sk-parallel-item {\n",
       "  display: flex;\n",
       "  flex-direction: column;\n",
       "}\n",
       "\n",
       "#sk-container-id-1 div.sk-parallel-item:first-child::after {\n",
       "  align-self: flex-end;\n",
       "  width: 50%;\n",
       "}\n",
       "\n",
       "#sk-container-id-1 div.sk-parallel-item:last-child::after {\n",
       "  align-self: flex-start;\n",
       "  width: 50%;\n",
       "}\n",
       "\n",
       "#sk-container-id-1 div.sk-parallel-item:only-child::after {\n",
       "  width: 0;\n",
       "}\n",
       "\n",
       "/* Serial-specific style estimator block */\n",
       "\n",
       "#sk-container-id-1 div.sk-serial {\n",
       "  display: flex;\n",
       "  flex-direction: column;\n",
       "  align-items: center;\n",
       "  background-color: var(--sklearn-color-background);\n",
       "  padding-right: 1em;\n",
       "  padding-left: 1em;\n",
       "}\n",
       "\n",
       "\n",
       "/* Toggleable style: style used for estimator/Pipeline/ColumnTransformer box that is\n",
       "clickable and can be expanded/collapsed.\n",
       "- Pipeline and ColumnTransformer use this feature and define the default style\n",
       "- Estimators will overwrite some part of the style using the `sk-estimator` class\n",
       "*/\n",
       "\n",
       "/* Pipeline and ColumnTransformer style (default) */\n",
       "\n",
       "#sk-container-id-1 div.sk-toggleable {\n",
       "  /* Default theme specific background. It is overwritten whether we have a\n",
       "  specific estimator or a Pipeline/ColumnTransformer */\n",
       "  background-color: var(--sklearn-color-background);\n",
       "}\n",
       "\n",
       "/* Toggleable label */\n",
       "#sk-container-id-1 label.sk-toggleable__label {\n",
       "  cursor: pointer;\n",
       "  display: flex;\n",
       "  width: 100%;\n",
       "  margin-bottom: 0;\n",
       "  padding: 0.5em;\n",
       "  box-sizing: border-box;\n",
       "  text-align: center;\n",
       "  align-items: start;\n",
       "  justify-content: space-between;\n",
       "  gap: 0.5em;\n",
       "}\n",
       "\n",
       "#sk-container-id-1 label.sk-toggleable__label .caption {\n",
       "  font-size: 0.6rem;\n",
       "  font-weight: lighter;\n",
       "  color: var(--sklearn-color-text-muted);\n",
       "}\n",
       "\n",
       "#sk-container-id-1 label.sk-toggleable__label-arrow:before {\n",
       "  /* Arrow on the left of the label */\n",
       "  content: \"▸\";\n",
       "  float: left;\n",
       "  margin-right: 0.25em;\n",
       "  color: var(--sklearn-color-icon);\n",
       "}\n",
       "\n",
       "#sk-container-id-1 label.sk-toggleable__label-arrow:hover:before {\n",
       "  color: var(--sklearn-color-text);\n",
       "}\n",
       "\n",
       "/* Toggleable content - dropdown */\n",
       "\n",
       "#sk-container-id-1 div.sk-toggleable__content {\n",
       "  display: none;\n",
       "  text-align: left;\n",
       "  /* unfitted */\n",
       "  background-color: var(--sklearn-color-unfitted-level-0);\n",
       "}\n",
       "\n",
       "#sk-container-id-1 div.sk-toggleable__content.fitted {\n",
       "  /* fitted */\n",
       "  background-color: var(--sklearn-color-fitted-level-0);\n",
       "}\n",
       "\n",
       "#sk-container-id-1 div.sk-toggleable__content pre {\n",
       "  margin: 0.2em;\n",
       "  border-radius: 0.25em;\n",
       "  color: var(--sklearn-color-text);\n",
       "  /* unfitted */\n",
       "  background-color: var(--sklearn-color-unfitted-level-0);\n",
       "}\n",
       "\n",
       "#sk-container-id-1 div.sk-toggleable__content.fitted pre {\n",
       "  /* unfitted */\n",
       "  background-color: var(--sklearn-color-fitted-level-0);\n",
       "}\n",
       "\n",
       "#sk-container-id-1 input.sk-toggleable__control:checked~div.sk-toggleable__content {\n",
       "  /* Expand drop-down */\n",
       "  display: block;\n",
       "  width: 100%;\n",
       "  overflow: visible;\n",
       "}\n",
       "\n",
       "#sk-container-id-1 input.sk-toggleable__control:checked~label.sk-toggleable__label-arrow:before {\n",
       "  content: \"▾\";\n",
       "}\n",
       "\n",
       "/* Pipeline/ColumnTransformer-specific style */\n",
       "\n",
       "#sk-container-id-1 div.sk-label input.sk-toggleable__control:checked~label.sk-toggleable__label {\n",
       "  color: var(--sklearn-color-text);\n",
       "  background-color: var(--sklearn-color-unfitted-level-2);\n",
       "}\n",
       "\n",
       "#sk-container-id-1 div.sk-label.fitted input.sk-toggleable__control:checked~label.sk-toggleable__label {\n",
       "  background-color: var(--sklearn-color-fitted-level-2);\n",
       "}\n",
       "\n",
       "/* Estimator-specific style */\n",
       "\n",
       "/* Colorize estimator box */\n",
       "#sk-container-id-1 div.sk-estimator input.sk-toggleable__control:checked~label.sk-toggleable__label {\n",
       "  /* unfitted */\n",
       "  background-color: var(--sklearn-color-unfitted-level-2);\n",
       "}\n",
       "\n",
       "#sk-container-id-1 div.sk-estimator.fitted input.sk-toggleable__control:checked~label.sk-toggleable__label {\n",
       "  /* fitted */\n",
       "  background-color: var(--sklearn-color-fitted-level-2);\n",
       "}\n",
       "\n",
       "#sk-container-id-1 div.sk-label label.sk-toggleable__label,\n",
       "#sk-container-id-1 div.sk-label label {\n",
       "  /* The background is the default theme color */\n",
       "  color: var(--sklearn-color-text-on-default-background);\n",
       "}\n",
       "\n",
       "/* On hover, darken the color of the background */\n",
       "#sk-container-id-1 div.sk-label:hover label.sk-toggleable__label {\n",
       "  color: var(--sklearn-color-text);\n",
       "  background-color: var(--sklearn-color-unfitted-level-2);\n",
       "}\n",
       "\n",
       "/* Label box, darken color on hover, fitted */\n",
       "#sk-container-id-1 div.sk-label.fitted:hover label.sk-toggleable__label.fitted {\n",
       "  color: var(--sklearn-color-text);\n",
       "  background-color: var(--sklearn-color-fitted-level-2);\n",
       "}\n",
       "\n",
       "/* Estimator label */\n",
       "\n",
       "#sk-container-id-1 div.sk-label label {\n",
       "  font-family: monospace;\n",
       "  font-weight: bold;\n",
       "  display: inline-block;\n",
       "  line-height: 1.2em;\n",
       "}\n",
       "\n",
       "#sk-container-id-1 div.sk-label-container {\n",
       "  text-align: center;\n",
       "}\n",
       "\n",
       "/* Estimator-specific */\n",
       "#sk-container-id-1 div.sk-estimator {\n",
       "  font-family: monospace;\n",
       "  border: 1px dotted var(--sklearn-color-border-box);\n",
       "  border-radius: 0.25em;\n",
       "  box-sizing: border-box;\n",
       "  margin-bottom: 0.5em;\n",
       "  /* unfitted */\n",
       "  background-color: var(--sklearn-color-unfitted-level-0);\n",
       "}\n",
       "\n",
       "#sk-container-id-1 div.sk-estimator.fitted {\n",
       "  /* fitted */\n",
       "  background-color: var(--sklearn-color-fitted-level-0);\n",
       "}\n",
       "\n",
       "/* on hover */\n",
       "#sk-container-id-1 div.sk-estimator:hover {\n",
       "  /* unfitted */\n",
       "  background-color: var(--sklearn-color-unfitted-level-2);\n",
       "}\n",
       "\n",
       "#sk-container-id-1 div.sk-estimator.fitted:hover {\n",
       "  /* fitted */\n",
       "  background-color: var(--sklearn-color-fitted-level-2);\n",
       "}\n",
       "\n",
       "/* Specification for estimator info (e.g. \"i\" and \"?\") */\n",
       "\n",
       "/* Common style for \"i\" and \"?\" */\n",
       "\n",
       ".sk-estimator-doc-link,\n",
       "a:link.sk-estimator-doc-link,\n",
       "a:visited.sk-estimator-doc-link {\n",
       "  float: right;\n",
       "  font-size: smaller;\n",
       "  line-height: 1em;\n",
       "  font-family: monospace;\n",
       "  background-color: var(--sklearn-color-background);\n",
       "  border-radius: 1em;\n",
       "  height: 1em;\n",
       "  width: 1em;\n",
       "  text-decoration: none !important;\n",
       "  margin-left: 0.5em;\n",
       "  text-align: center;\n",
       "  /* unfitted */\n",
       "  border: var(--sklearn-color-unfitted-level-1) 1pt solid;\n",
       "  color: var(--sklearn-color-unfitted-level-1);\n",
       "}\n",
       "\n",
       ".sk-estimator-doc-link.fitted,\n",
       "a:link.sk-estimator-doc-link.fitted,\n",
       "a:visited.sk-estimator-doc-link.fitted {\n",
       "  /* fitted */\n",
       "  border: var(--sklearn-color-fitted-level-1) 1pt solid;\n",
       "  color: var(--sklearn-color-fitted-level-1);\n",
       "}\n",
       "\n",
       "/* On hover */\n",
       "div.sk-estimator:hover .sk-estimator-doc-link:hover,\n",
       ".sk-estimator-doc-link:hover,\n",
       "div.sk-label-container:hover .sk-estimator-doc-link:hover,\n",
       ".sk-estimator-doc-link:hover {\n",
       "  /* unfitted */\n",
       "  background-color: var(--sklearn-color-unfitted-level-3);\n",
       "  color: var(--sklearn-color-background);\n",
       "  text-decoration: none;\n",
       "}\n",
       "\n",
       "div.sk-estimator.fitted:hover .sk-estimator-doc-link.fitted:hover,\n",
       ".sk-estimator-doc-link.fitted:hover,\n",
       "div.sk-label-container:hover .sk-estimator-doc-link.fitted:hover,\n",
       ".sk-estimator-doc-link.fitted:hover {\n",
       "  /* fitted */\n",
       "  background-color: var(--sklearn-color-fitted-level-3);\n",
       "  color: var(--sklearn-color-background);\n",
       "  text-decoration: none;\n",
       "}\n",
       "\n",
       "/* Span, style for the box shown on hovering the info icon */\n",
       ".sk-estimator-doc-link span {\n",
       "  display: none;\n",
       "  z-index: 9999;\n",
       "  position: relative;\n",
       "  font-weight: normal;\n",
       "  right: .2ex;\n",
       "  padding: .5ex;\n",
       "  margin: .5ex;\n",
       "  width: min-content;\n",
       "  min-width: 20ex;\n",
       "  max-width: 50ex;\n",
       "  color: var(--sklearn-color-text);\n",
       "  box-shadow: 2pt 2pt 4pt #999;\n",
       "  /* unfitted */\n",
       "  background: var(--sklearn-color-unfitted-level-0);\n",
       "  border: .5pt solid var(--sklearn-color-unfitted-level-3);\n",
       "}\n",
       "\n",
       ".sk-estimator-doc-link.fitted span {\n",
       "  /* fitted */\n",
       "  background: var(--sklearn-color-fitted-level-0);\n",
       "  border: var(--sklearn-color-fitted-level-3);\n",
       "}\n",
       "\n",
       ".sk-estimator-doc-link:hover span {\n",
       "  display: block;\n",
       "}\n",
       "\n",
       "/* \"?\"-specific style due to the `<a>` HTML tag */\n",
       "\n",
       "#sk-container-id-1 a.estimator_doc_link {\n",
       "  float: right;\n",
       "  font-size: 1rem;\n",
       "  line-height: 1em;\n",
       "  font-family: monospace;\n",
       "  background-color: var(--sklearn-color-background);\n",
       "  border-radius: 1rem;\n",
       "  height: 1rem;\n",
       "  width: 1rem;\n",
       "  text-decoration: none;\n",
       "  /* unfitted */\n",
       "  color: var(--sklearn-color-unfitted-level-1);\n",
       "  border: var(--sklearn-color-unfitted-level-1) 1pt solid;\n",
       "}\n",
       "\n",
       "#sk-container-id-1 a.estimator_doc_link.fitted {\n",
       "  /* fitted */\n",
       "  border: var(--sklearn-color-fitted-level-1) 1pt solid;\n",
       "  color: var(--sklearn-color-fitted-level-1);\n",
       "}\n",
       "\n",
       "/* On hover */\n",
       "#sk-container-id-1 a.estimator_doc_link:hover {\n",
       "  /* unfitted */\n",
       "  background-color: var(--sklearn-color-unfitted-level-3);\n",
       "  color: var(--sklearn-color-background);\n",
       "  text-decoration: none;\n",
       "}\n",
       "\n",
       "#sk-container-id-1 a.estimator_doc_link.fitted:hover {\n",
       "  /* fitted */\n",
       "  background-color: var(--sklearn-color-fitted-level-3);\n",
       "}\n",
       "\n",
       ".estimator-table summary {\n",
       "    padding: .5rem;\n",
       "    font-family: monospace;\n",
       "    cursor: pointer;\n",
       "}\n",
       "\n",
       ".estimator-table details[open] {\n",
       "    padding-left: 0.1rem;\n",
       "    padding-right: 0.1rem;\n",
       "    padding-bottom: 0.3rem;\n",
       "}\n",
       "\n",
       ".estimator-table .parameters-table {\n",
       "    margin-left: auto !important;\n",
       "    margin-right: auto !important;\n",
       "}\n",
       "\n",
       ".estimator-table .parameters-table tr:nth-child(odd) {\n",
       "    background-color: #fff;\n",
       "}\n",
       "\n",
       ".estimator-table .parameters-table tr:nth-child(even) {\n",
       "    background-color: #f6f6f6;\n",
       "}\n",
       "\n",
       ".estimator-table .parameters-table tr:hover {\n",
       "    background-color: #e0e0e0;\n",
       "}\n",
       "\n",
       ".estimator-table table td {\n",
       "    border: 1px solid rgba(106, 105, 104, 0.232);\n",
       "}\n",
       "\n",
       ".user-set td {\n",
       "    color:rgb(255, 94, 0);\n",
       "    text-align: left;\n",
       "}\n",
       "\n",
       ".user-set td.value pre {\n",
       "    color:rgb(255, 94, 0) !important;\n",
       "    background-color: transparent !important;\n",
       "}\n",
       "\n",
       ".default td {\n",
       "    color: black;\n",
       "    text-align: left;\n",
       "}\n",
       "\n",
       ".user-set td i,\n",
       ".default td i {\n",
       "    color: black;\n",
       "}\n",
       "\n",
       ".copy-paste-icon {\n",
       "    background-image: url(data:image/svg+xml;base64,PHN2ZyB4bWxucz0iaHR0cDovL3d3dy53My5vcmcvMjAwMC9zdmciIHZpZXdCb3g9IjAgMCA0NDggNTEyIj48IS0tIUZvbnQgQXdlc29tZSBGcmVlIDYuNy4yIGJ5IEBmb250YXdlc29tZSAtIGh0dHBzOi8vZm9udGF3ZXNvbWUuY29tIExpY2Vuc2UgLSBodHRwczovL2ZvbnRhd2Vzb21lLmNvbS9saWNlbnNlL2ZyZWUgQ29weXJpZ2h0IDIwMjUgRm9udGljb25zLCBJbmMuLS0+PHBhdGggZD0iTTIwOCAwTDMzMi4xIDBjMTIuNyAwIDI0LjkgNS4xIDMzLjkgMTQuMWw2Ny45IDY3LjljOSA5IDE0LjEgMjEuMiAxNC4xIDMzLjlMNDQ4IDMzNmMwIDI2LjUtMjEuNSA0OC00OCA0OGwtMTkyIDBjLTI2LjUgMC00OC0yMS41LTQ4LTQ4bDAtMjg4YzAtMjYuNSAyMS41LTQ4IDQ4LTQ4ek00OCAxMjhsODAgMCAwIDY0LTY0IDAgMCAyNTYgMTkyIDAgMC0zMiA2NCAwIDAgNDhjMCAyNi41LTIxLjUgNDgtNDggNDhMNDggNTEyYy0yNi41IDAtNDgtMjEuNS00OC00OEwwIDE3NmMwLTI2LjUgMjEuNS00OCA0OC00OHoiLz48L3N2Zz4=);\n",
       "    background-repeat: no-repeat;\n",
       "    background-size: 14px 14px;\n",
       "    background-position: 0;\n",
       "    display: inline-block;\n",
       "    width: 14px;\n",
       "    height: 14px;\n",
       "    cursor: pointer;\n",
       "}\n",
       "</style><body><div id=\"sk-container-id-1\" class=\"sk-top-container\"><div class=\"sk-text-repr-fallback\"><pre>LogisticRegression()</pre><b>In a Jupyter environment, please rerun this cell to show the HTML representation or trust the notebook. <br />On GitHub, the HTML representation is unable to render, please try loading this page with nbviewer.org.</b></div><div class=\"sk-container\" hidden><div class=\"sk-item\"><div class=\"sk-estimator fitted sk-toggleable\"><input class=\"sk-toggleable__control sk-hidden--visually\" id=\"sk-estimator-id-1\" type=\"checkbox\" checked><label for=\"sk-estimator-id-1\" class=\"sk-toggleable__label fitted sk-toggleable__label-arrow\"><div><div>LogisticRegression</div></div><div><a class=\"sk-estimator-doc-link fitted\" rel=\"noreferrer\" target=\"_blank\" href=\"https://scikit-learn.org/1.7/modules/generated/sklearn.linear_model.LogisticRegression.html\">?<span>Documentation for LogisticRegression</span></a><span class=\"sk-estimator-doc-link fitted\">i<span>Fitted</span></span></div></label><div class=\"sk-toggleable__content fitted\" data-param-prefix=\"\">\n",
       "        <div class=\"estimator-table\">\n",
       "            <details>\n",
       "                <summary>Parameters</summary>\n",
       "                <table class=\"parameters-table\">\n",
       "                  <tbody>\n",
       "                    \n",
       "        <tr class=\"default\">\n",
       "            <td><i class=\"copy-paste-icon\"\n",
       "                 onclick=\"copyToClipboard('penalty',\n",
       "                          this.parentElement.nextElementSibling)\"\n",
       "            ></i></td>\n",
       "            <td class=\"param\">penalty&nbsp;</td>\n",
       "            <td class=\"value\">&#x27;l2&#x27;</td>\n",
       "        </tr>\n",
       "    \n",
       "\n",
       "        <tr class=\"default\">\n",
       "            <td><i class=\"copy-paste-icon\"\n",
       "                 onclick=\"copyToClipboard('dual',\n",
       "                          this.parentElement.nextElementSibling)\"\n",
       "            ></i></td>\n",
       "            <td class=\"param\">dual&nbsp;</td>\n",
       "            <td class=\"value\">False</td>\n",
       "        </tr>\n",
       "    \n",
       "\n",
       "        <tr class=\"default\">\n",
       "            <td><i class=\"copy-paste-icon\"\n",
       "                 onclick=\"copyToClipboard('tol',\n",
       "                          this.parentElement.nextElementSibling)\"\n",
       "            ></i></td>\n",
       "            <td class=\"param\">tol&nbsp;</td>\n",
       "            <td class=\"value\">0.0001</td>\n",
       "        </tr>\n",
       "    \n",
       "\n",
       "        <tr class=\"default\">\n",
       "            <td><i class=\"copy-paste-icon\"\n",
       "                 onclick=\"copyToClipboard('C',\n",
       "                          this.parentElement.nextElementSibling)\"\n",
       "            ></i></td>\n",
       "            <td class=\"param\">C&nbsp;</td>\n",
       "            <td class=\"value\">1.0</td>\n",
       "        </tr>\n",
       "    \n",
       "\n",
       "        <tr class=\"default\">\n",
       "            <td><i class=\"copy-paste-icon\"\n",
       "                 onclick=\"copyToClipboard('fit_intercept',\n",
       "                          this.parentElement.nextElementSibling)\"\n",
       "            ></i></td>\n",
       "            <td class=\"param\">fit_intercept&nbsp;</td>\n",
       "            <td class=\"value\">True</td>\n",
       "        </tr>\n",
       "    \n",
       "\n",
       "        <tr class=\"default\">\n",
       "            <td><i class=\"copy-paste-icon\"\n",
       "                 onclick=\"copyToClipboard('intercept_scaling',\n",
       "                          this.parentElement.nextElementSibling)\"\n",
       "            ></i></td>\n",
       "            <td class=\"param\">intercept_scaling&nbsp;</td>\n",
       "            <td class=\"value\">1</td>\n",
       "        </tr>\n",
       "    \n",
       "\n",
       "        <tr class=\"default\">\n",
       "            <td><i class=\"copy-paste-icon\"\n",
       "                 onclick=\"copyToClipboard('class_weight',\n",
       "                          this.parentElement.nextElementSibling)\"\n",
       "            ></i></td>\n",
       "            <td class=\"param\">class_weight&nbsp;</td>\n",
       "            <td class=\"value\">None</td>\n",
       "        </tr>\n",
       "    \n",
       "\n",
       "        <tr class=\"default\">\n",
       "            <td><i class=\"copy-paste-icon\"\n",
       "                 onclick=\"copyToClipboard('random_state',\n",
       "                          this.parentElement.nextElementSibling)\"\n",
       "            ></i></td>\n",
       "            <td class=\"param\">random_state&nbsp;</td>\n",
       "            <td class=\"value\">None</td>\n",
       "        </tr>\n",
       "    \n",
       "\n",
       "        <tr class=\"default\">\n",
       "            <td><i class=\"copy-paste-icon\"\n",
       "                 onclick=\"copyToClipboard('solver',\n",
       "                          this.parentElement.nextElementSibling)\"\n",
       "            ></i></td>\n",
       "            <td class=\"param\">solver&nbsp;</td>\n",
       "            <td class=\"value\">&#x27;lbfgs&#x27;</td>\n",
       "        </tr>\n",
       "    \n",
       "\n",
       "        <tr class=\"default\">\n",
       "            <td><i class=\"copy-paste-icon\"\n",
       "                 onclick=\"copyToClipboard('max_iter',\n",
       "                          this.parentElement.nextElementSibling)\"\n",
       "            ></i></td>\n",
       "            <td class=\"param\">max_iter&nbsp;</td>\n",
       "            <td class=\"value\">100</td>\n",
       "        </tr>\n",
       "    \n",
       "\n",
       "        <tr class=\"default\">\n",
       "            <td><i class=\"copy-paste-icon\"\n",
       "                 onclick=\"copyToClipboard('multi_class',\n",
       "                          this.parentElement.nextElementSibling)\"\n",
       "            ></i></td>\n",
       "            <td class=\"param\">multi_class&nbsp;</td>\n",
       "            <td class=\"value\">&#x27;deprecated&#x27;</td>\n",
       "        </tr>\n",
       "    \n",
       "\n",
       "        <tr class=\"default\">\n",
       "            <td><i class=\"copy-paste-icon\"\n",
       "                 onclick=\"copyToClipboard('verbose',\n",
       "                          this.parentElement.nextElementSibling)\"\n",
       "            ></i></td>\n",
       "            <td class=\"param\">verbose&nbsp;</td>\n",
       "            <td class=\"value\">0</td>\n",
       "        </tr>\n",
       "    \n",
       "\n",
       "        <tr class=\"default\">\n",
       "            <td><i class=\"copy-paste-icon\"\n",
       "                 onclick=\"copyToClipboard('warm_start',\n",
       "                          this.parentElement.nextElementSibling)\"\n",
       "            ></i></td>\n",
       "            <td class=\"param\">warm_start&nbsp;</td>\n",
       "            <td class=\"value\">False</td>\n",
       "        </tr>\n",
       "    \n",
       "\n",
       "        <tr class=\"default\">\n",
       "            <td><i class=\"copy-paste-icon\"\n",
       "                 onclick=\"copyToClipboard('n_jobs',\n",
       "                          this.parentElement.nextElementSibling)\"\n",
       "            ></i></td>\n",
       "            <td class=\"param\">n_jobs&nbsp;</td>\n",
       "            <td class=\"value\">None</td>\n",
       "        </tr>\n",
       "    \n",
       "\n",
       "        <tr class=\"default\">\n",
       "            <td><i class=\"copy-paste-icon\"\n",
       "                 onclick=\"copyToClipboard('l1_ratio',\n",
       "                          this.parentElement.nextElementSibling)\"\n",
       "            ></i></td>\n",
       "            <td class=\"param\">l1_ratio&nbsp;</td>\n",
       "            <td class=\"value\">None</td>\n",
       "        </tr>\n",
       "    \n",
       "                  </tbody>\n",
       "                </table>\n",
       "            </details>\n",
       "        </div>\n",
       "    </div></div></div></div></div><script>function copyToClipboard(text, element) {\n",
       "    // Get the parameter prefix from the closest toggleable content\n",
       "    const toggleableContent = element.closest('.sk-toggleable__content');\n",
       "    const paramPrefix = toggleableContent ? toggleableContent.dataset.paramPrefix : '';\n",
       "    const fullParamName = paramPrefix ? `${paramPrefix}${text}` : text;\n",
       "\n",
       "    const originalStyle = element.style;\n",
       "    const computedStyle = window.getComputedStyle(element);\n",
       "    const originalWidth = computedStyle.width;\n",
       "    const originalHTML = element.innerHTML.replace('Copied!', '');\n",
       "\n",
       "    navigator.clipboard.writeText(fullParamName)\n",
       "        .then(() => {\n",
       "            element.style.width = originalWidth;\n",
       "            element.style.color = 'green';\n",
       "            element.innerHTML = \"Copied!\";\n",
       "\n",
       "            setTimeout(() => {\n",
       "                element.innerHTML = originalHTML;\n",
       "                element.style = originalStyle;\n",
       "            }, 2000);\n",
       "        })\n",
       "        .catch(err => {\n",
       "            console.error('Failed to copy:', err);\n",
       "            element.style.color = 'red';\n",
       "            element.innerHTML = \"Failed!\";\n",
       "            setTimeout(() => {\n",
       "                element.innerHTML = originalHTML;\n",
       "                element.style = originalStyle;\n",
       "            }, 2000);\n",
       "        });\n",
       "    return false;\n",
       "}\n",
       "\n",
       "document.querySelectorAll('.fa-regular.fa-copy').forEach(function(element) {\n",
       "    const toggleableContent = element.closest('.sk-toggleable__content');\n",
       "    const paramPrefix = toggleableContent ? toggleableContent.dataset.paramPrefix : '';\n",
       "    const paramName = element.parentElement.nextElementSibling.textContent.trim();\n",
       "    const fullParamName = paramPrefix ? `${paramPrefix}${paramName}` : paramName;\n",
       "\n",
       "    element.setAttribute('title', fullParamName);\n",
       "});\n",
       "</script></body>"
      ],
      "text/plain": [
       "LogisticRegression()"
      ]
     },
     "execution_count": 79,
     "metadata": {},
     "output_type": "execute_result"
    }
   ],
   "source": [
    " \n",
    "    # ii. Fit logistic regression on training set\n",
    "model = LogisticRegression()\n",
    "model.fit(X_train, y_train)"
   ]
  },
  {
   "cell_type": "code",
   "execution_count": 78,
   "id": "219b8e31",
   "metadata": {},
   "outputs": [],
   "source": [
    "\n",
    "    # iii. Predict posterior probabilities on validation set\n",
    "prob_pred = model.predict_proba(X_val)[:, 1]"
   ]
  },
  {
   "cell_type": "code",
   "execution_count": 77,
   "id": "a44cde1f",
   "metadata": {},
   "outputs": [
    {
     "name": "stdout",
     "output_type": "stream",
     "text": [
      "Validation error for split 3: 0.0482\n"
     ]
    }
   ],
   "source": [
    "# Classify default if probability > 0.5\n",
    "y_pred = (prob_pred > 0.5).astype(int)\n",
    "    \n",
    "    # iv. Compute validation set error (fraction misclassified)\n",
    "validation_error = np.mean(y_pred != y_val)\n",
    "validation_errors.append(validation_error)\n",
    "print(f\"Validation error for split {seed}: {validation_error:.4f}\")\n",
    "\n"
   ]
  },
  {
   "cell_type": "code",
   "execution_count": 80,
   "id": "2e035f86",
   "metadata": {},
   "outputs": [
    {
     "name": "stdout",
     "output_type": "stream",
     "text": [
      "\n",
      "Comment: The validation errors vary a little between trials because of random differences in training and validation sets. Repeating with different samples ensures a more reliable estimate of test error by accounting for this variability.\n"
     ]
    }
   ],
   "source": [
    "# Comment on results\n",
    "print(\"\\nComment: The validation errors vary a little between trials because of random differences in training and validation sets. Repeating with different samples ensures a more reliable estimate of test error by accounting for this variability.\")\n"
   ]
  },
  {
   "cell_type": "markdown",
   "id": "827c0538",
   "metadata": {},
   "source": [
    "The logistic regression model uses income and balance to predict default.\n",
    "\n",
    "The sample is split into training and validation sets for each trial.\n",
    "\n",
    "The model is trained on training data only, then predictions are made on validation data.\n",
    "\n",
    "Validation error is computed as the fraction of misclassified validation samples.\n",
    "\n",
    "The process is repeated 3 times with different splits.\n",
    "\n",
    "The variability in validation errors across repeats reflects sampling variability and the importance of multiple validation splits."
   ]
  }
 ],
 "metadata": {
  "kernelspec": {
   "display_name": "Python 3",
   "language": "python",
   "name": "python3"
  },
  "language_info": {
   "codemirror_mode": {
    "name": "ipython",
    "version": 3
   },
   "file_extension": ".py",
   "mimetype": "text/x-python",
   "name": "python",
   "nbconvert_exporter": "python",
   "pygments_lexer": "ipython3",
   "version": "3.13.7"
  }
 },
 "nbformat": 4,
 "nbformat_minor": 5
}
